{
 "metadata": {
  "name": ""
 },
 "nbformat": 3,
 "nbformat_minor": 0,
 "worksheets": [
  {
   "cells": [
    {
     "cell_type": "markdown",
     "metadata": {},
     "source": [
      "- https://celery.readthedocs.org/en/latest/configuration.html\n",
      "- https://celery.readthedocs.org/en/latest/userguide/periodic-tasks.html\n",
      "- https://celery.readthedocs.org/en/latest/userguide/remote-tasks.html"
     ]
    },
    {
     "cell_type": "raw",
     "metadata": {},
     "source": [
      "from datetime import timedelta\n",
      "\n",
      "CELERYBEAT_SCHEDULE = {\n",
      "    'add-every-30-seconds': {\n",
      "        'task': 'tut1.add',\n",
      "        'schedule': timedelta(seconds=30),\n",
      "        'args': (16, 16)\n",
      "    },\n",
      "}\n"
     ]
    },
    {
     "cell_type": "code",
     "collapsed": false,
     "input": [],
     "language": "python",
     "metadata": {},
     "outputs": []
    }
   ],
   "metadata": {}
  }
 ]
}