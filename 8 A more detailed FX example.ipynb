{
 "metadata": {
  "name": ""
 },
 "nbformat": 3,
 "nbformat_minor": 0,
 "worksheets": [
  {
   "cells": [
    {
     "cell_type": "markdown",
     "metadata": {},
     "source": [
      "![](https://github.com/PyCon/2014/blob/master/assets/logos/pycon2014-blog-image.png?raw=true)\n",
      "Distibuted task processing using Celery\n",
      "======================================="
     ]
    },
    {
     "cell_type": "raw",
     "metadata": {},
     "source": [
      "import pnl\n",
      "from celery import chain,group\n",
      "import time\n",
      "import redis\n",
      "\n",
      "db = redis.Redis()\n",
      "\n",
      "print db.lrange('JPY',-10,-1)\n",
      "\n",
      "#independent tasks in parallel\n",
      "for item in db.lrange('JPY',-10,-1):\n",
      "    price = float(item)\n",
      "    print price\n",
      "    res=group(pnl.get_pnl.si('pos_%s'%(i,), price) for i in range(1,6))()\n",
      "    print res.ready()\n",
      "    print res.get(timeout=1)\n",
      "\n",
      "#like a chain, but stil independent tasks\n",
      "for item in db.lrange('JPY',-10,-1):\n",
      "    price = float(item)\n",
      "    res1=chain(pnl.get_pnl.si('pos_1', price),pnl.get_pnl.si('pos_2', price),pnl.get_pnl.si('pos_3', price))()\n",
      "    print res1.get()\n",
      "    print res1.parent.get()\n",
      "    print res1.parent.parent.get()"
     ]
    },
    {
     "cell_type": "code",
     "collapsed": false,
     "input": [],
     "language": "python",
     "metadata": {},
     "outputs": []
    }
   ],
   "metadata": {}
  }
 ]
}