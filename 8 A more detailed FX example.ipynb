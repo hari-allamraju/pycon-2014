{
 "metadata": {
  "name": ""
 },
 "nbformat": 3,
 "nbformat_minor": 0,
 "worksheets": [
  {
   "cells": [
    {
     "cell_type": "markdown",
     "metadata": {},
     "source": [
      "Add a pyeurofx example here"
     ]
    }
   ],
   "metadata": {}
  }
 ]
}