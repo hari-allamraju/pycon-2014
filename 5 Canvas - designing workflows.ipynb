{
 "metadata": {
  "name": "5 Canvas - designing workflows"
 },
 "nbformat": 3,
 "nbformat_minor": 0,
 "worksheets": [
  {
   "cells": [
    {
     "cell_type": "markdown",
     "metadata": {},
     "source": [
      "![](https://github.com/PyCon/2014/blob/master/assets/logos/pycon2014-blog-image.png?raw=true)\n",
      "Distibuted task processing using Celery\n",
      "======================================="
     ]
    },
    {
     "cell_type": "markdown",
     "metadata": {},
     "source": [
      "Lets define 3 more functions that we will use to see how we can use workflows"
     ]
    },
    {
     "cell_type": "raw",
     "metadata": {},
     "source": [
      "import simplejson as json\n",
      "from celery import Celery\n",
      "from celery.utils.log import get_task_logger\n",
      "import redis\n",
      "\n",
      "celery=Celery('positions',broker='redis://',backend='redis://')\n",
      "logger = get_task_logger(__name__)\n",
      "\n",
      "@celery.task\n",
      "def get_pnl(name,close):\n",
      "    if close is None or close<0:\n",
      "        return None\n",
      "    db=redis.Redis()\n",
      "    pos_str=db.get(name)\n",
      "    if pos_str is None:\n",
      "        return None\n",
      "    else:\n",
      "        pos=json.loads(pos_str)\n",
      "        current = pos['size']*close\n",
      "        initial = pos['size']*pos['price']\n",
      "        return current-initial    \n",
      "\n",
      "@celery.task\n",
      "def add_pnl(val1=0,val2=0):\n",
      "    return val1+val2\n",
      "\n",
      "\n",
      "@celery.task\n",
      "def add_list(values):\n",
      "    result=0\n",
      "    for value in values:\n",
      "        result+=value\n",
      "    return result\n"
     ]
    },
    {
     "cell_type": "code",
     "collapsed": false,
     "input": [
      "import pnl\n",
      "from celery import chain,group,chord\n",
      "import time\n",
      "\n"
     ],
     "language": "python",
     "metadata": {},
     "outputs": [],
     "prompt_number": 1
    },
    {
     "cell_type": "markdown",
     "metadata": {},
     "source": [
      "A group is a set of tasks running in parallel"
     ]
    },
    {
     "cell_type": "code",
     "collapsed": false,
     "input": [
      "#independent tasks in parallel\n",
      "res=group(pnl.get_pnl.si('pos_%s'%(i,), 0.95) for i in range(1,6))()\n",
      "\n"
     ],
     "language": "python",
     "metadata": {},
     "outputs": [],
     "prompt_number": 2
    },
    {
     "cell_type": "code",
     "collapsed": false,
     "input": [
      "print res.ready()\n",
      "print res.get(timeout=10)\n"
     ],
     "language": "python",
     "metadata": {},
     "outputs": [
      {
       "output_type": "stream",
       "stream": "stdout",
       "text": [
        "False\n",
        "[-4.0, 4.0, 10.0, -1.0, 16.0]"
       ]
      },
      {
       "output_type": "stream",
       "stream": "stdout",
       "text": [
        "\n"
       ]
      }
     ],
     "prompt_number": 3
    },
    {
     "cell_type": "markdown",
     "metadata": {},
     "source": [
      "A chain is a set of tasks executed one after the other - if the tasks are independent/immutable then the results from one is not passed to the other"
     ]
    },
    {
     "cell_type": "code",
     "collapsed": false,
     "input": [
      "#like a chain, but stil independent tasks\n",
      "res1=chain(pnl.get_pnl.si('pos_1', 0.95),pnl.get_pnl.si('pos_2', 0.95),pnl.get_pnl.si('pos_3', 0.95))()\n",
      "\n"
     ],
     "language": "python",
     "metadata": {},
     "outputs": [],
     "prompt_number": 4
    },
    {
     "cell_type": "code",
     "collapsed": false,
     "input": [
      "print res1.get()\n",
      "print res1.parent.get()\n",
      "print res1.parent.parent.get()\n"
     ],
     "language": "python",
     "metadata": {},
     "outputs": [
      {
       "output_type": "stream",
       "stream": "stdout",
       "text": [
        "10.0\n",
        "4.0\n",
        "-4.0\n"
       ]
      }
     ],
     "prompt_number": 5
    },
    {
     "cell_type": "markdown",
     "metadata": {},
     "source": [
      "But if the tasks are not independent/immutable then the result from the current task in the chain is passed as an argument to the next task in the chain"
     ]
    },
    {
     "cell_type": "code",
     "collapsed": false,
     "input": [
      "#chain of sub tasks addig up the result\n",
      "s1=pnl.get_pnl.delay('pos_1', 0.95)\n",
      "s2=pnl.get_pnl.delay('pos_2', 0.95)\n",
      "s3=pnl.get_pnl.delay('pos_3', 0.95)\n",
      "\n",
      "#just wait a few secs\n",
      "time.sleep(5)\n",
      "\n"
     ],
     "language": "python",
     "metadata": {},
     "outputs": [],
     "prompt_number": 6
    },
    {
     "cell_type": "code",
     "collapsed": false,
     "input": [
      "print s1.result,s2.result,s3.result\n",
      "\n"
     ],
     "language": "python",
     "metadata": {},
     "outputs": [
      {
       "output_type": "stream",
       "stream": "stdout",
       "text": [
        "-4.0 4.0 10.0\n"
       ]
      }
     ],
     "prompt_number": 7
    },
    {
     "cell_type": "code",
     "collapsed": false,
     "input": [
      "res2=chain(pnl.add_pnl.s(0,s1.result),pnl.add_pnl.s(s2.result),pnl.add_pnl.s(s3.result))()\n"
     ],
     "language": "python",
     "metadata": {},
     "outputs": [],
     "prompt_number": 8
    },
    {
     "cell_type": "code",
     "collapsed": false,
     "input": [
      "print res2.get()\n",
      "print res2.parent.get()\n",
      "print res2.parent.parent.get()\n"
     ],
     "language": "python",
     "metadata": {},
     "outputs": [
      {
       "output_type": "stream",
       "stream": "stdout",
       "text": [
        "10.0\n",
        "0.0\n",
        "-4.0\n"
       ]
      }
     ],
     "prompt_number": 9
    },
    {
     "cell_type": "markdown",
     "metadata": {},
     "source": [
      "A chord is a group, with a callback - where the call back aggreates or processes the list of results from each task in the group. Kind of like map and reduce - the callback reduces the results of each task in te group."
     ]
    },
    {
     "cell_type": "code",
     "collapsed": false,
     "input": [
      "res3=chord((pnl.get_pnl.si('pos_%s'%(i,), 0.95) for i in range(1,6)),pnl.add_list.s())()"
     ],
     "language": "python",
     "metadata": {},
     "outputs": [],
     "prompt_number": 10
    },
    {
     "cell_type": "code",
     "collapsed": false,
     "input": [
      "print res3.get()"
     ],
     "language": "python",
     "metadata": {},
     "outputs": [
      {
       "output_type": "stream",
       "stream": "stdout",
       "text": [
        "25.0\n"
       ]
      }
     ],
     "prompt_number": 11
    }
   ],
   "metadata": {}
  }
 ]
}