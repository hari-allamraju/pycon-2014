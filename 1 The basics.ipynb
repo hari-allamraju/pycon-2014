{
 "metadata": {
  "name": ""
 },
 "nbformat": 3,
 "nbformat_minor": 0,
 "worksheets": [
  {
   "cells": [
    {
     "cell_type": "markdown",
     "metadata": {},
     "source": [
      "![](https://github.com/PyCon/2014/blob/master/assets/logos/pycon2014-blog-image.png?raw=true)\n",
      "Distibuted task processing using Celery\n",
      "======================================="
     ]
    },
    {
     "cell_type": "raw",
     "metadata": {},
     "source": [
      "from celery import Celery\n",
      "\n",
      "celery = Celery('tut1',broker='redis://')\n",
      "\n",
      "@celery.task\n",
      "def add(a,b):\n",
      "    print a+b\n"
     ]
    },
    {
     "cell_type": "code",
     "collapsed": false,
     "input": [
      "import tut1\n",
      "tut1.add(1,2)\n",
      "tut1.add.delay(1,2)"
     ],
     "language": "python",
     "metadata": {},
     "outputs": [
      {
       "output_type": "stream",
       "stream": "stdout",
       "text": [
        "3\n"
       ]
      },
      {
       "metadata": {},
       "output_type": "pyout",
       "prompt_number": 1,
       "text": [
        "<AsyncResult: c2b61014-57f6-4118-942f-4bade0aff83e>"
       ]
      }
     ],
     "prompt_number": 1
    },
    {
     "cell_type": "code",
     "collapsed": false,
     "input": [
      "s = tut1.add.delay(1,2)\n",
      "dir(s)"
     ],
     "language": "python",
     "metadata": {},
     "outputs": [
      {
       "metadata": {},
       "output_type": "pyout",
       "prompt_number": 2,
       "text": [
        "['TimeoutError',\n",
        " '__class__',\n",
        " '__copy__',\n",
        " '__delattr__',\n",
        " '__dict__',\n",
        " '__doc__',\n",
        " '__eq__',\n",
        " '__format__',\n",
        " '__getattribute__',\n",
        " '__hash__',\n",
        " '__init__',\n",
        " '__module__',\n",
        " '__ne__',\n",
        " '__new__',\n",
        " '__reduce__',\n",
        " '__reduce_args__',\n",
        " '__reduce_ex__',\n",
        " '__repr__',\n",
        " '__setattr__',\n",
        " '__sizeof__',\n",
        " '__str__',\n",
        " '__subclasshook__',\n",
        " '__weakref__',\n",
        " '_parents',\n",
        " 'app',\n",
        " 'as_tuple',\n",
        " 'backend',\n",
        " 'build_graph',\n",
        " 'children',\n",
        " 'collect',\n",
        " 'failed',\n",
        " 'forget',\n",
        " 'get',\n",
        " 'get_leaf',\n",
        " 'graph',\n",
        " 'id',\n",
        " 'info',\n",
        " 'iterdeps',\n",
        " 'parent',\n",
        " 'ready',\n",
        " 'result',\n",
        " 'revoke',\n",
        " 'serializable',\n",
        " 'state',\n",
        " 'status',\n",
        " 'successful',\n",
        " 'supports_native_join',\n",
        " 'task_id',\n",
        " 'task_name',\n",
        " 'traceback',\n",
        " 'wait']"
       ]
      }
     ],
     "prompt_number": 2
    },
    {
     "cell_type": "code",
     "collapsed": false,
     "input": [
      "print s.status()\n",
      "print s.ready()\n",
      "print s.result()"
     ],
     "language": "python",
     "metadata": {},
     "outputs": [
      {
       "ename": "NotImplementedError",
       "evalue": "No result backend configured.  Please see the documentation for more information.",
       "output_type": "pyerr",
       "traceback": [
        "\u001b[0;31m---------------------------------------------------------------------------\u001b[0m\n\u001b[0;31mNotImplementedError\u001b[0m                       Traceback (most recent call last)",
        "\u001b[0;32m<ipython-input-3-707918326817>\u001b[0m in \u001b[0;36m<module>\u001b[0;34m()\u001b[0m\n\u001b[0;32m----> 1\u001b[0;31m \u001b[0;32mprint\u001b[0m \u001b[0ms\u001b[0m\u001b[0;34m.\u001b[0m\u001b[0mstatus\u001b[0m\u001b[0;34m(\u001b[0m\u001b[0;34m)\u001b[0m\u001b[0;34m\u001b[0m\u001b[0m\n\u001b[0m\u001b[1;32m      2\u001b[0m \u001b[0;32mprint\u001b[0m \u001b[0ms\u001b[0m\u001b[0;34m.\u001b[0m\u001b[0mready\u001b[0m\u001b[0;34m(\u001b[0m\u001b[0;34m)\u001b[0m\u001b[0;34m\u001b[0m\u001b[0m\n\u001b[1;32m      3\u001b[0m \u001b[0;32mprint\u001b[0m \u001b[0ms\u001b[0m\u001b[0;34m.\u001b[0m\u001b[0mresult\u001b[0m\u001b[0;34m(\u001b[0m\u001b[0;34m)\u001b[0m\u001b[0;34m\u001b[0m\u001b[0m\n",
        "\u001b[0;32m/Users/hari/pycon/tut/lib/python2.7/site-packages/celery/result.pyc\u001b[0m in \u001b[0;36mstate\u001b[0;34m(self)\u001b[0m\n\u001b[1;32m    338\u001b[0m \u001b[0;34m\u001b[0m\u001b[0m\n\u001b[1;32m    339\u001b[0m         \"\"\"\n\u001b[0;32m--> 340\u001b[0;31m         \u001b[0;32mreturn\u001b[0m \u001b[0mself\u001b[0m\u001b[0;34m.\u001b[0m\u001b[0mbackend\u001b[0m\u001b[0;34m.\u001b[0m\u001b[0mget_status\u001b[0m\u001b[0;34m(\u001b[0m\u001b[0mself\u001b[0m\u001b[0;34m.\u001b[0m\u001b[0mid\u001b[0m\u001b[0;34m)\u001b[0m\u001b[0;34m\u001b[0m\u001b[0m\n\u001b[0m\u001b[1;32m    341\u001b[0m     \u001b[0mstatus\u001b[0m \u001b[0;34m=\u001b[0m \u001b[0mstate\u001b[0m\u001b[0;34m\u001b[0m\u001b[0m\n\u001b[1;32m    342\u001b[0m \u001b[0;34m\u001b[0m\u001b[0m\n",
        "\u001b[0;32m/Users/hari/pycon/tut/lib/python2.7/site-packages/celery/backends/base.pyc\u001b[0m in \u001b[0;36m_is_disabled\u001b[0;34m(self, *args, **kwargs)\u001b[0m\n\u001b[1;32m    552\u001b[0m     \u001b[0;32mdef\u001b[0m \u001b[0m_is_disabled\u001b[0m\u001b[0;34m(\u001b[0m\u001b[0mself\u001b[0m\u001b[0;34m,\u001b[0m \u001b[0;34m*\u001b[0m\u001b[0margs\u001b[0m\u001b[0;34m,\u001b[0m \u001b[0;34m**\u001b[0m\u001b[0mkwargs\u001b[0m\u001b[0;34m)\u001b[0m\u001b[0;34m:\u001b[0m\u001b[0;34m\u001b[0m\u001b[0m\n\u001b[1;32m    553\u001b[0m         raise NotImplementedError(\n\u001b[0;32m--> 554\u001b[0;31m             \u001b[0;34m'No result backend configured.  '\u001b[0m\u001b[0;34m\u001b[0m\u001b[0m\n\u001b[0m\u001b[1;32m    555\u001b[0m             'Please see the documentation for more information.')\n\u001b[1;32m    556\u001b[0m     \u001b[0mwait_for\u001b[0m \u001b[0;34m=\u001b[0m \u001b[0mget_status\u001b[0m \u001b[0;34m=\u001b[0m \u001b[0mget_result\u001b[0m \u001b[0;34m=\u001b[0m \u001b[0mget_traceback\u001b[0m \u001b[0;34m=\u001b[0m \u001b[0m_is_disabled\u001b[0m\u001b[0;34m\u001b[0m\u001b[0m\n",
        "\u001b[0;31mNotImplementedError\u001b[0m: No result backend configured.  Please see the documentation for more information."
       ]
      }
     ],
     "prompt_number": 3
    },
    {
     "cell_type": "markdown",
     "metadata": {},
     "source": [
      "- T.delay(arg, kwarg=value)\n",
      "-- always a shortcut to .apply_async.\n",
      "- T.apply_async((arg, ), {'kwarg': value})\n",
      "- T.apply_async(countdown=10)\n",
      "-- executes 10 seconds from now.\n",
      "- T.apply_async(eta=now + timedelta(seconds=10))\n",
      "-- executes 10 seconds from now, specifed using eta\n",
      "- T.apply_async(countdown=60, expires=120)\n",
      "-- executes in one minute from now, but expires after 2 minutes.\n",
      "- T.apply_async(expires=now + timedelta(days=2))\n",
      "-- expires in 2 days, set using datetime."
     ]
    },
    {
     "cell_type": "code",
     "collapsed": false,
     "input": [],
     "language": "python",
     "metadata": {},
     "outputs": []
    }
   ],
   "metadata": {}
  }
 ]
}