{
 "metadata": {
  "name": ""
 },
 "nbformat": 3,
 "nbformat_minor": 0,
 "worksheets": [
  {
   "cells": [
    {
     "cell_type": "markdown",
     "metadata": {},
     "source": [
      "![](https://github.com/PyCon/2014/blob/master/assets/logos/pycon2014-blog-image.png?raw=true)\n",
      "Distibuted task processing using Celery\n",
      "======================================="
     ]
    },
    {
     "cell_type": "raw",
     "metadata": {},
     "source": [
      "from celery import Celery\n",
      "\n",
      "celery = Celery('tut1',broker='redis://')\n",
      "\n",
      "@celery.task\n",
      "def add(a,b):\n",
      "    print a+b\n"
     ]
    },
    {
     "cell_type": "markdown",
     "metadata": {},
     "source": [
      "Reference\n",
      "=========\n",
      "- http://docs.celeryproject.org/en/latest/userguide/application.html"
     ]
    },
    {
     "cell_type": "code",
     "collapsed": false,
     "input": [
      "import tut1\n",
      "tut1.add(1,2)\n",
      "tut1.add.delay(1,2)"
     ],
     "language": "python",
     "metadata": {},
     "outputs": [
      {
       "output_type": "stream",
       "stream": "stdout",
       "text": [
        "3\n"
       ]
      },
      {
       "metadata": {},
       "output_type": "pyout",
       "prompt_number": 1,
       "text": [
        "<AsyncResult: c2b61014-57f6-4118-942f-4bade0aff83e>"
       ]
      }
     ],
     "prompt_number": 1
    },
    {
     "cell_type": "code",
     "collapsed": false,
     "input": [
      "s = tut1.add.delay(1,2)\n",
      "dir(s)"
     ],
     "language": "python",
     "metadata": {},
     "outputs": [
      {
       "metadata": {},
       "output_type": "pyout",
       "prompt_number": 2,
       "text": [
        "['TimeoutError',\n",
        " '__class__',\n",
        " '__copy__',\n",
        " '__delattr__',\n",
        " '__dict__',\n",
        " '__doc__',\n",
        " '__eq__',\n",
        " '__format__',\n",
        " '__getattribute__',\n",
        " '__hash__',\n",
        " '__init__',\n",
        " '__module__',\n",
        " '__ne__',\n",
        " '__new__',\n",
        " '__reduce__',\n",
        " '__reduce_args__',\n",
        " '__reduce_ex__',\n",
        " '__repr__',\n",
        " '__setattr__',\n",
        " '__sizeof__',\n",
        " '__str__',\n",
        " '__subclasshook__',\n",
        " '__weakref__',\n",
        " '_parents',\n",
        " 'app',\n",
        " 'as_tuple',\n",
        " 'backend',\n",
        " 'build_graph',\n",
        " 'children',\n",
        " 'collect',\n",
        " 'failed',\n",
        " 'forget',\n",
        " 'get',\n",
        " 'get_leaf',\n",
        " 'graph',\n",
        " 'id',\n",
        " 'info',\n",
        " 'iterdeps',\n",
        " 'parent',\n",
        " 'ready',\n",
        " 'result',\n",
        " 'revoke',\n",
        " 'serializable',\n",
        " 'state',\n",
        " 'status',\n",
        " 'successful',\n",
        " 'supports_native_join',\n",
        " 'task_id',\n",
        " 'task_name',\n",
        " 'traceback',\n",
        " 'wait']"
       ]
      }
     ],
     "prompt_number": 2
    },
    {
     "cell_type": "code",
     "collapsed": false,
     "input": [
      "print s.status()\n",
      "print s.ready()\n",
      "print s.result()"
     ],
     "language": "python",
     "metadata": {},
     "outputs": [
      {
       "ename": "NotImplementedError",
       "evalue": "No result backend configured.  Please see the documentation for more information.",
       "output_type": "pyerr",
       "traceback": [
        "\u001b[0;31m---------------------------------------------------------------------------\u001b[0m\n\u001b[0;31mNotImplementedError\u001b[0m                       Traceback (most recent call last)",
        "\u001b[0;32m<ipython-input-3-707918326817>\u001b[0m in \u001b[0;36m<module>\u001b[0;34m()\u001b[0m\n\u001b[0;32m----> 1\u001b[0;31m \u001b[0;32mprint\u001b[0m \u001b[0ms\u001b[0m\u001b[0;34m.\u001b[0m\u001b[0mstatus\u001b[0m\u001b[0;34m(\u001b[0m\u001b[0;34m)\u001b[0m\u001b[0;34m\u001b[0m\u001b[0m\n\u001b[0m\u001b[1;32m      2\u001b[0m \u001b[0;32mprint\u001b[0m \u001b[0ms\u001b[0m\u001b[0;34m.\u001b[0m\u001b[0mready\u001b[0m\u001b[0;34m(\u001b[0m\u001b[0;34m)\u001b[0m\u001b[0;34m\u001b[0m\u001b[0m\n\u001b[1;32m      3\u001b[0m \u001b[0;32mprint\u001b[0m \u001b[0ms\u001b[0m\u001b[0;34m.\u001b[0m\u001b[0mresult\u001b[0m\u001b[0;34m(\u001b[0m\u001b[0;34m)\u001b[0m\u001b[0;34m\u001b[0m\u001b[0m\n",
        "\u001b[0;32m/Users/hari/pycon/tut/lib/python2.7/site-packages/celery/result.pyc\u001b[0m in \u001b[0;36mstate\u001b[0;34m(self)\u001b[0m\n\u001b[1;32m    338\u001b[0m \u001b[0;34m\u001b[0m\u001b[0m\n\u001b[1;32m    339\u001b[0m         \"\"\"\n\u001b[0;32m--> 340\u001b[0;31m         \u001b[0;32mreturn\u001b[0m \u001b[0mself\u001b[0m\u001b[0;34m.\u001b[0m\u001b[0mbackend\u001b[0m\u001b[0;34m.\u001b[0m\u001b[0mget_status\u001b[0m\u001b[0;34m(\u001b[0m\u001b[0mself\u001b[0m\u001b[0;34m.\u001b[0m\u001b[0mid\u001b[0m\u001b[0;34m)\u001b[0m\u001b[0;34m\u001b[0m\u001b[0m\n\u001b[0m\u001b[1;32m    341\u001b[0m     \u001b[0mstatus\u001b[0m \u001b[0;34m=\u001b[0m \u001b[0mstate\u001b[0m\u001b[0;34m\u001b[0m\u001b[0m\n\u001b[1;32m    342\u001b[0m \u001b[0;34m\u001b[0m\u001b[0m\n",
        "\u001b[0;32m/Users/hari/pycon/tut/lib/python2.7/site-packages/celery/backends/base.pyc\u001b[0m in \u001b[0;36m_is_disabled\u001b[0;34m(self, *args, **kwargs)\u001b[0m\n\u001b[1;32m    552\u001b[0m     \u001b[0;32mdef\u001b[0m \u001b[0m_is_disabled\u001b[0m\u001b[0;34m(\u001b[0m\u001b[0mself\u001b[0m\u001b[0;34m,\u001b[0m \u001b[0;34m*\u001b[0m\u001b[0margs\u001b[0m\u001b[0;34m,\u001b[0m \u001b[0;34m**\u001b[0m\u001b[0mkwargs\u001b[0m\u001b[0;34m)\u001b[0m\u001b[0;34m:\u001b[0m\u001b[0;34m\u001b[0m\u001b[0m\n\u001b[1;32m    553\u001b[0m         raise NotImplementedError(\n\u001b[0;32m--> 554\u001b[0;31m             \u001b[0;34m'No result backend configured.  '\u001b[0m\u001b[0;34m\u001b[0m\u001b[0m\n\u001b[0m\u001b[1;32m    555\u001b[0m             'Please see the documentation for more information.')\n\u001b[1;32m    556\u001b[0m     \u001b[0mwait_for\u001b[0m \u001b[0;34m=\u001b[0m \u001b[0mget_status\u001b[0m \u001b[0;34m=\u001b[0m \u001b[0mget_result\u001b[0m \u001b[0;34m=\u001b[0m \u001b[0mget_traceback\u001b[0m \u001b[0;34m=\u001b[0m \u001b[0m_is_disabled\u001b[0m\u001b[0;34m\u001b[0m\u001b[0m\n",
        "\u001b[0;31mNotImplementedError\u001b[0m: No result backend configured.  Please see the documentation for more information."
       ]
      }
     ],
     "prompt_number": 3
    },
    {
     "cell_type": "markdown",
     "metadata": {},
     "source": [
      "Reference\n",
      "=========\n",
      "\n",
      "- http://docs.celeryproject.org/en/latest/userguide/tasks.html\n",
      "\n",
      "More ways to call a task\n",
      "\n",
      "- T.delay(arg, kwarg=value)\n",
      "-- always a shortcut to .apply_async.\n",
      "- T.apply_async((arg, ), {'kwarg': value})\n",
      "- T.apply_async(countdown=10)\n",
      "-- executes 10 seconds from now.\n",
      "- T.apply_async(eta=now + timedelta(seconds=10))\n",
      "-- executes 10 seconds from now, specifed using eta\n",
      "- T.apply_async(countdown=60, expires=120)\n",
      "-- executes in one minute from now, but expires after 2 minutes.\n",
      "- T.apply_async(expires=now + timedelta(days=2))\n",
      "-- expires in 2 days, set using datetime."
     ]
    },
    {
     "cell_type": "raw",
     "metadata": {},
     "source": [
      "Celery does set some default keyword arguments if the task accepts them. (you can accept them by either using **kwargs, or list them specifically)\n",
      "\n",
      "@task\n",
      "def do_job(path, task_id=None):\n",
      "    cache.set(task_id, operation_results)\n"
     ]
    },
    {
     "cell_type": "markdown",
     "metadata": {},
     "source": [
      "Context\n",
      "=======\n",
      "\n",
      "request contains information and state related to the executing task.\n",
      "\n",
      "The request defines the following attributes:\n",
      "\n",
      "- id:\tThe unique id of the executing task.\n",
      "- group:\tThe unique id a group, if this task is a member.\n",
      "- chord:\tThe unique id of the chord this task belongs to (if the task is part of the header).\n",
      "- args:\tPositional arguments.\n",
      "- kwargs:\tKeyword arguments.\n",
      "- retries:\tHow many times the current task has been retried. An integer starting at 0.\n",
      "- is_eager:\tSet to True if the task is executed locally in the client, and not by a worker.\n",
      "- eta:\tThe original ETA of the task (if any). This is in UTC time (depending on the CELERY_ENABLE_UTC setting).\n",
      "- expires:\tThe original expiry time of the task (if any). This is in UTC time (depending on the CELERY_ENABLE_UTC setting).\n",
      "- logfile:\tThe file the worker logs to. See Logging.\n",
      "- loglevel:\tThe current log level used.\n",
      "- hostname:\tHostname of the worker instance executing the task.\n",
      "- delivery_info:\tAdditional message delivery information. This is a mapping containing the exchange and routing key used to deliver this task. Used by e.g. retry() to resend the task to the same destination queue. Availability of keys in this dict depends on the message broker used.\n",
      "- called_directly:\n",
      " \tThis flag is set to true if the task was not executed by the worker.\n",
      "- callbacks:\tA list of subtasks to be called if this task returns successfully.\n",
      "- errback:\tA list of subtasks to be called if this task fails.\n",
      "- utc:\tSet to true the caller has utc enabled (CELERY_ENABLE_UTC).\n",
      "\n",
      "New in version 3.1.\n",
      "\n",
      "- headers:\tMapping of message headers (may be None).\n",
      "- reply_to:\tWhere to send reply to (queue name).\n",
      "- correlation_id:\tUsually the same as the task id, often used in amqp to keep track of what a reply is for.\n"
     ]
    },
    {
     "cell_type": "markdown",
     "metadata": {},
     "source": [
      "Logging\n",
      "======="
     ]
    },
    {
     "cell_type": "raw",
     "metadata": {},
     "source": [
      "from celery.utils.log import get_task_logger\n",
      "\n",
      "logger = get_task_logger(__name__)\n",
      "\n",
      "@app.task\n",
      "def add(x, y):\n",
      "    logger.info('Adding {0} + {1}'.format(x, y))\n",
      "    return x + y\n"
     ]
    },
    {
     "cell_type": "markdown",
     "metadata": {},
     "source": [
      "More details on tasks - http://docs.celeryproject.org/en/latest/userguide/tasks.html"
     ]
    }
   ],
   "metadata": {}
  }
 ]
}