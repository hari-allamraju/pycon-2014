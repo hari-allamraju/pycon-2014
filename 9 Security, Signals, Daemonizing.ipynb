{
 "metadata": {
  "name": ""
 },
 "nbformat": 3,
 "nbformat_minor": 0,
 "worksheets": [
  {
   "cells": [
    {
     "cell_type": "markdown",
     "metadata": {},
     "source": [
      "http://docs.celeryproject.org/en/latest/userguide/security.html#guide-security\n",
      "http://docs.celeryproject.org/en/latest/userguide/signals.html#signals\n",
      "http://docs.celeryproject.org/en/latest/tutorials/daemonizing.html#daemonizing"
     ]
    }
   ],
   "metadata": {}
  }
 ]
}