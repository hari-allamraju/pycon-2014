{
 "metadata": {
  "name": ""
 },
 "nbformat": 3,
 "nbformat_minor": 0,
 "worksheets": [
  {
   "cells": [
    {
     "cell_type": "markdown",
     "metadata": {},
     "source": [
      "![](https://github.com/PyCon/2014/blob/master/assets/logos/pycon2014-blog-image.png?raw=true)\n",
      "Distibuted task processing using Celery\n",
      "======================================="
     ]
    },
    {
     "cell_type": "markdown",
     "metadata": {},
     "source": [
      "- http://docs.celeryproject.org/en/latest/userguide/security.html#guide-security\n",
      "- http://docs.celeryproject.org/en/latest/userguide/signals.html#signals\n",
      "- http://docs.celeryproject.org/en/latest/tutorials/daemonizing.html#daemonizing"
     ]
    },
    {
     "cell_type": "code",
     "collapsed": false,
     "input": [
      "import signals\n",
      "signals.add.delay(12,2)"
     ],
     "language": "python",
     "metadata": {},
     "outputs": [
      {
       "output_type": "stream",
       "stream": "stdout",
       "text": [
        "after_task_publish for task id f449e640-9e3c-4cc1-a2d7-09dc188293cd\n"
       ]
      },
      {
       "metadata": {},
       "output_type": "pyout",
       "prompt_number": 2,
       "text": [
        "<AsyncResult: f449e640-9e3c-4cc1-a2d7-09dc188293cd>"
       ]
      }
     ],
     "prompt_number": 2
    }
   ],
   "metadata": {}
  }
 ]
}