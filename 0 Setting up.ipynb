{
 "metadata": {
  "name": "0 Setting up"
 },
 "nbformat": 3,
 "nbformat_minor": 0,
 "worksheets": [
  {
   "cells": [
    {
     "cell_type": "markdown",
     "metadata": {},
     "source": [
      "![](https://github.com/PyCon/2014/blob/master/assets/logos/pycon2014-blog-image.png?raw=true)\n",
      "Distibuted task processing using Celery\n",
      "======================================="
     ]
    },
    {
     "cell_type": "markdown",
     "metadata": {},
     "source": [
      "Basics\n",
      "======\n",
      "- Celery - http://celeryproject.com\n",
      "- Redis - http://redis.io\n",
      "- Handout - TBD \n",
      "- Sample code - https://github.com/supercoderz/pycon-2014\n",
      "\n",
      "Software\n",
      "========\n",
      "- Python - version 2.x or 3.x are both fine\n",
      "- Install pip, the Python installer system - http://www.pip-installer.org/en/latest/\n",
      "- Redis - you can install this from http://redis.io/ - if you are using Linux or OSX, then you need to build this from the source tarball\n",
      "- If you are using Windows, then please download the binaries for Windows from this Github repo - https://github.com/MSOpenTech/redis. You can download the repo as a zip file and the binaries are under the bin folder.\n",
      "- Celery - if you have pip installed, then you can simply install Celery using the command 'pip install celery-with-redis'\n",
      "- Install Celery flower using 'pip install flower'\n",
      "- Install simplejson with 'pip install simplejson'\n",
      "\n",
      "Celery docs\n",
      "===========\n",
      "- http://docs.celeryproject.org/en/latest/index.html"
     ]
    },
    {
     "cell_type": "markdown",
     "metadata": {},
     "source": [
      "![](http://imgs.xkcd.com/comics/python.png)"
     ]
    },
    {
     "cell_type": "markdown",
     "metadata": {},
     "source": [
      "About me\n",
      "========\n",
      "- Java developer by day with over 9 years experience building and maintaining enterprise messaging platforms and electronic trading applications\n",
      "- Interested in Python for last few years, playing around with Django and Celery in free time \n",
      "- Built a small web app at http://rememberthebudget.in\n",
      "- Picked up Celery after trying to build something similar for fun, and running into some very hard walls :)\n",
      "- In love with ipython notebook since I first used last year\n",
      "\n"
     ]
    }
   ],
   "metadata": {}
  }
 ]
}