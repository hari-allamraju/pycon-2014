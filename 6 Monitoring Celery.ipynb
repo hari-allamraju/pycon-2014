{
 "metadata": {
  "name": "6 Monitoring Celery"
 },
 "nbformat": 3,
 "nbformat_minor": 0,
 "worksheets": [
  {
   "cells": [
    {
     "cell_type": "markdown",
     "metadata": {},
     "source": [
      "![](https://github.com/PyCon/2014/blob/master/assets/logos/pycon2014-blog-image.png?raw=true)\n",
      "Distibuted task processing using Celery\n",
      "======================================="
     ]
    },
    {
     "cell_type": "markdown",
     "metadata": {},
     "source": [
      "Monitoring Celery is very easy with flower. Its as easy as running 'celery flower' pointing it to the backend that you are using and making sure you do this before you start any of the worker nodes. All the workers are monitored."
     ]
    }
   ],
   "metadata": {}
  }
 ]
}