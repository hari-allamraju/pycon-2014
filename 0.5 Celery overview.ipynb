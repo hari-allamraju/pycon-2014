{
 "metadata": {
  "name": ""
 },
 "nbformat": 3,
 "nbformat_minor": 0,
 "worksheets": [
  {
   "cells": [
    {
     "cell_type": "markdown",
     "metadata": {},
     "source": [
      "![](https://github.com/PyCon/2014/blob/master/assets/logos/pycon2014-blog-image.png?raw=true)\n",
      "Distibuted task processing using Celery\n",
      "======================================="
     ]
    },
    {
     "cell_type": "markdown",
     "metadata": {},
     "source": [
      "What is Celery?\n",
      "===============\n",
      "Celery is a distributed task queue. Or simply a parallel processing framework. \n",
      "\n",
      "Simply put it can be used to take a bunch of tasks and instead of running them one after the other, can we can send them to a set of workers and distribute among them so that the entire thing gets done faster.\n",
      "\n",
      "And this distribution happens by means of queues where we put the data and the workers pick them up - hence the task queue.\n",
      "\n",
      "This idea of task queue is not entirely new - there have been a large number of distributed task queues. There are commercially supported vendor products that have provided these facilities and they are pretty good too.\n",
      "\n",
      "Celery has its own unique points"
     ]
    },
    {
     "cell_type": "markdown",
     "metadata": {},
     "source": [
      "The good things about Celery\n",
      "============================\n",
      "- Celery is entirely written in Python and is very light weight\n",
      "- Celery does not add a lot of bulk to your code - if you have some code, then dropping in Celery into that is very easy - we will see this soon\n",
      "- Celery does not have a master controller that co-ordinates the tasks between the clients and the workers - its all distributed and everyone talks through the underlying queues and the result backend.\n",
      "- The communication is transparent and can be achieved using many back ends\n",
      "- Celery works on top of a messaging framework called Kombu - https://github.com/celery/kombu - it was basically part of Celery and then split off into a project - and this makes it very easy to switch the underlying mechanisms without a hassle\n",
      "- with Celery you don't have to send the code to the workers - you can have workers aware of the code that you want to execute and you just tell them what to execute and what arguments to use.\n",
      "\n",
      "\n",
      "And a lot more features - http://docs.celeryproject.org/en/latest/getting-started/introduction.html"
     ]
    },
    {
     "cell_type": "markdown",
     "metadata": {},
     "source": [
      "Architecture\n",
      "============\n",
      "(image from https://wiki.openstack.org/wiki/Celery)\n",
      "\n",
      "![](https://wiki.openstack.org/w/images/b/b8/CeleryArch.jpg)"
     ]
    },
    {
     "cell_type": "markdown",
     "metadata": {},
     "source": [
      "A more real life diagram\n",
      "========================\n",
      "(image from http://digitheadslabnotebook.blogspot.ca/2010/10/message-queues-with-python.html)\n",
      "\n",
      "![](http://4.bp.blogspot.com/_dbECP0yvozc/TL8u74_jYZI/AAAAAAAACwY/AryoD6QHmd8/s1600/workers_and_queue.png)"
     ]
    },
    {
     "cell_type": "markdown",
     "metadata": {},
     "source": [
      "Similar tools\n",
      "=============\n",
      "\n",
      "http://python-rq.org/"
     ]
    },
    {
     "cell_type": "markdown",
     "metadata": {},
     "source": [
      "What kind of scenarios will you use Celery for?\n",
      "===============================================\n",
      "- Tasks that need to be done in the background and do not need to impact user experience\n",
      "- Tasks that need to process large amounts of data quickly\n",
      "- When you need to free up resources without holding them up so that they can process large number of requests"
     ]
    },
    {
     "cell_type": "markdown",
     "metadata": {},
     "source": [
      "Explore the celery command line\n",
      "===============================\n",
      "\n",
      "- celery\n",
      "- celerybeat"
     ]
    }
   ],
   "metadata": {}
  }
 ]
}