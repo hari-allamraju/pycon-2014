{
 "metadata": {
  "name": ""
 },
 "nbformat": 3,
 "nbformat_minor": 0,
 "worksheets": [
  {
   "cells": [
    {
     "cell_type": "markdown",
     "metadata": {},
     "source": [
      "![](https://github.com/PyCon/2014/blob/master/assets/logos/pycon2014-blog-image.png?raw=true)\n",
      "Distibuted task processing using Celery\n",
      "======================================="
     ]
    },
    {
     "cell_type": "markdown",
     "metadata": {},
     "source": [
      "Why would we need queues?\n",
      "=========================\n",
      "\n",
      "Routing tasks - https://celery.readthedocs.org/en/latest/userguide/routing.html\n",
      "\n",
      "(image taken from http://lostechies.com/derekgreer/2012/03/28/rabbitmq-for-windows-exchange-types/)\n",
      "\n",
      "![](http://lostechies.com/derekgreer/files/2012/03/FanoutExchange2.png)"
     ]
    },
    {
     "cell_type": "raw",
     "metadata": {},
     "source": [
      "import simplejson as json\n",
      "from celery import Celery\n",
      "from celery.utils.log import get_task_logger\n",
      "import redis\n",
      "\n",
      "celery=Celery('positions',broker='redis://',backend='redis://')\n",
      "logger = get_task_logger(__name__)\n",
      "\n",
      "@celery.task(queue='priority_queue')\n",
      "def get_initial_position_value(name):\n",
      "    db=redis.Redis()\n",
      "    pos=json.loads(db.get(name))\n",
      "    return pos['size']*pos['price']\n",
      "    \n",
      "\n",
      "@celery.task(queue='priority_queue')\n",
      "def get_value_at_close(name,close):\n",
      "    db=redis.Redis()\n",
      "    pos=json.loads(db.get(name))\n",
      "    return pos['size']*close\n",
      "    \n",
      "@celery.task(queue='priority_queue')\n",
      "def get_value_at_close_1(name,close):\n",
      "    db=redis.Redis()\n",
      "    pos=json.loads(db.get(name))\n",
      "    logger.info('Calculating value with close price %s'%(close,))\n",
      "    return pos['size']*close\n"
     ]
    },
    {
     "cell_type": "code",
     "collapsed": false,
     "input": [
      "import queues\n",
      "t5=queues.get_initial_position_value.delay('pos_1')"
     ],
     "language": "python",
     "metadata": {},
     "outputs": [],
     "prompt_number": 5
    },
    {
     "cell_type": "code",
     "collapsed": false,
     "input": [
      "print t5.state"
     ],
     "language": "python",
     "metadata": {},
     "outputs": [
      {
       "output_type": "stream",
       "stream": "stdout",
       "text": [
        "SUCCESS\n"
       ]
      }
     ],
     "prompt_number": 7
    },
    {
     "cell_type": "code",
     "collapsed": false,
     "input": [
      "print t5.result"
     ],
     "language": "python",
     "metadata": {},
     "outputs": [
      {
       "output_type": "stream",
       "stream": "stdout",
       "text": [
        "99.0\n"
       ]
      }
     ],
     "prompt_number": 8
    }
   ],
   "metadata": {}
  }
 ]
}