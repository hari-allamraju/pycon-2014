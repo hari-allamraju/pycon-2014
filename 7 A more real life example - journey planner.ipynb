{
 "metadata": {
  "name": ""
 },
 "nbformat": 3,
 "nbformat_minor": 0,
 "worksheets": [
  {
   "cells": [
    {
     "cell_type": "raw",
     "metadata": {},
     "source": [
      "import json\n",
      "import networkx as nx\n",
      "from itertools import izip\n",
      "from celery import Celery\n",
      "\n",
      "celery = Celery('tut1',broker='redis://',backend='redis://')\n",
      "\n",
      "graph = nx.MultiGraph()\n",
      "\n",
      "data_str = open('routes.json').read()\n",
      "data = json.loads(data_str)\n",
      "\n",
      "for item in data:\n",
      "\troute_name = item['name']\n",
      "\tstops = item['stops']\n",
      "\tstop_names = [stop['stop']['name'] for stop in stops]\n",
      "\tif stop_names!=[]:\n",
      "\t\tgraph.add_star(stop_names,route=route_name)\n",
      "\n",
      "\n",
      "@celery.task\n",
      "def get_routes(start,end):\n",
      "    paths = nx.all_shortest_paths(graph,start,end)\n",
      "    return [path for path in paths]\n",
      "\n",
      "\n",
      "@celery.task\n",
      "def get_full_routes(start,end):\n",
      "    paths = nx.all_shortest_paths(graph,start,end)\n",
      "    routes=[]\n",
      "    for path in paths:\n",
      "        for k,v in zip(path,path[1:]):\n",
      "            edges = graph[k][v]\n",
      "            route=[]\n",
      "            for edge in edges.values():\n",
      "                route.append((k,v,edge['route']))\n",
      "            routes.append(route)\n",
      "    \n",
      "#print nx.shortest_path(graph,'Dilsukhnagar Bus station','Patancheru Bus Stop')\n",
      "#print nx.shortest_path(graph,'Patancheru Bus Stop','Hayath Nagar Bus Stop')\n",
      "#for path in nx.all_shortest_paths(graph,'Dilsukhnagar Bus station','Patancheru Bus Stop'):\n",
      "#\tprint path\n",
      "\t\n",
      "#all_paths =  nx.all_pairs_shortest_path(graph)\n",
      "#path =  all_paths['Nagole Bus Stop']['Ziaguda']\n",
      "#for k,v in zip(path,path[1:]):\n",
      "#\tedges = graph[k][v]\n",
      "#\tfor edge in edges.values():\n",
      "#\t\tprint k,v,edge['route']"
     ]
    },
    {
     "cell_type": "code",
     "collapsed": false,
     "input": [
      "from simple_planner import *\n",
      "\n",
      "print graph.size()\n"
     ],
     "language": "python",
     "metadata": {},
     "outputs": [
      {
       "output_type": "stream",
       "stream": "stdout",
       "text": [
        "17341\n"
       ]
      }
     ],
     "prompt_number": 1
    },
    {
     "cell_type": "code",
     "collapsed": false,
     "input": [
      "paths = get_routes('Nagole Bus Stop','Ziaguda')\n",
      "for path in paths:\n",
      "    print path\n"
     ],
     "language": "python",
     "metadata": {},
     "outputs": [
      {
       "output_type": "stream",
       "stream": "stdout",
       "text": [
        "['Nagole Bus Stop', u'Koti Bus Stop', 'Ziaguda']\n",
        "['Nagole Bus Stop', u'Secunderabad Junction', 'Ziaguda']\n",
        "['Nagole Bus Stop', u'Womens college Bus Stop', 'Ziaguda']\n",
        "['Nagole Bus Stop', u'LB Nagar Bus Stop', 'Ziaguda']\n"
       ]
      }
     ],
     "prompt_number": 2
    },
    {
     "cell_type": "code",
     "collapsed": false,
     "input": [
      "routes = get_full_routes('Nagole Bus Stop','Ziaguda')\n",
      "for route in routes:\n",
      "    for leg in route:\n",
      "        print leg\n",
      "    print '-----'"
     ],
     "language": "python",
     "metadata": {},
     "outputs": [
      {
       "output_type": "stream",
       "stream": "stdout",
       "text": [
        "('Nagole Bus Stop', u'Koti Bus Stop', u'96N')\n",
        "-----\n",
        "(u'Koti Bus Stop', 'Ziaguda', u'86J')\n",
        "(u'Koti Bus Stop', 'Ziaguda', u'1J')\n",
        "-----\n",
        "('Nagole Bus Stop', u'Secunderabad Junction', u'290Q')\n",
        "('Nagole Bus Stop', u'Secunderabad Junction', u'90L/251')\n",
        "('Nagole Bus Stop', u'Secunderabad Junction', u'290S')\n",
        "('Nagole Bus Stop', u'Secunderabad Junction', u'290K')\n",
        "('Nagole Bus Stop', u'Secunderabad Junction', u'206/290')\n",
        "('Nagole Bus Stop', u'Secunderabad Junction', u'90A')\n",
        "('Nagole Bus Stop', u'Secunderabad Junction', u'90A/107V')\n",
        "('Nagole Bus Stop', u'Secunderabad Junction', u'90D/107V')\n",
        "('Nagole Bus Stop', u'Secunderabad Junction', u'90NJ')\n",
        "-----\n",
        "(u'Secunderabad Junction', 'Ziaguda', u'2J')\n",
        "(u'Secunderabad Junction', 'Ziaguda', u'86J')\n",
        "(u'Secunderabad Junction', 'Ziaguda', u'1J')\n",
        "-----\n",
        "('Nagole Bus Stop', u'Womens college Bus Stop', u'201G')\n",
        "('Nagole Bus Stop', u'Womens college Bus Stop', u'96N')\n",
        "('Nagole Bus Stop', u'Womens college Bus Stop', u'201M')\n",
        "-----\n",
        "(u'Womens college Bus Stop', 'Ziaguda', u'86J')\n",
        "-----\n",
        "('Nagole Bus Stop', u'LB Nagar Bus Stop', u'90L/250')\n",
        "-----\n",
        "(u'LB Nagar Bus Stop', 'Ziaguda', u'72JY')\n",
        "-----\n"
       ]
      }
     ],
     "prompt_number": 3
    },
    {
     "cell_type": "code",
     "collapsed": false,
     "input": [
      "res = get_routes.delay('Nagole Bus Stop','Ziaguda')"
     ],
     "language": "python",
     "metadata": {},
     "outputs": [],
     "prompt_number": 4
    },
    {
     "cell_type": "code",
     "collapsed": false,
     "input": [
      "res.status"
     ],
     "language": "python",
     "metadata": {},
     "outputs": [
      {
       "metadata": {},
       "output_type": "pyout",
       "prompt_number": 6,
       "text": [
        "'SUCCESS'"
       ]
      }
     ],
     "prompt_number": 6
    },
    {
     "cell_type": "code",
     "collapsed": false,
     "input": [
      "print res.result"
     ],
     "language": "python",
     "metadata": {},
     "outputs": [
      {
       "output_type": "stream",
       "stream": "stdout",
       "text": [
        "[['Nagole Bus Stop', u'Koti Bus Stop', 'Ziaguda'], ['Nagole Bus Stop', u'Secunderabad Junction', 'Ziaguda'], ['Nagole Bus Stop', u'Womens college Bus Stop', 'Ziaguda'], ['Nagole Bus Stop', u'LB Nagar Bus Stop', 'Ziaguda']]\n"
       ]
      }
     ],
     "prompt_number": 7
    },
    {
     "cell_type": "code",
     "collapsed": false,
     "input": [
      "res1 = get_full_routes.delay('Nagole Bus Stop','Ziaguda')\n"
     ],
     "language": "python",
     "metadata": {},
     "outputs": [],
     "prompt_number": 8
    },
    {
     "cell_type": "code",
     "collapsed": false,
     "input": [
      "res1.status"
     ],
     "language": "python",
     "metadata": {},
     "outputs": [
      {
       "metadata": {},
       "output_type": "pyout",
       "prompt_number": 9,
       "text": [
        "'SUCCESS'"
       ]
      }
     ],
     "prompt_number": 9
    },
    {
     "cell_type": "code",
     "collapsed": false,
     "input": [
      "routes = res1.result\n",
      "for route in routes:\n",
      "    for leg in route:\n",
      "        print leg\n",
      "    print '-----'"
     ],
     "language": "python",
     "metadata": {},
     "outputs": [
      {
       "output_type": "stream",
       "stream": "stdout",
       "text": [
        "('Nagole Bus Stop', u'Koti Bus Stop', u'96N')\n",
        "-----\n",
        "(u'Koti Bus Stop', 'Ziaguda', u'86J')\n",
        "(u'Koti Bus Stop', 'Ziaguda', u'1J')\n",
        "-----\n",
        "('Nagole Bus Stop', u'Secunderabad Junction', u'290Q')\n",
        "('Nagole Bus Stop', u'Secunderabad Junction', u'90L/251')\n",
        "('Nagole Bus Stop', u'Secunderabad Junction', u'290S')\n",
        "('Nagole Bus Stop', u'Secunderabad Junction', u'290K')\n",
        "('Nagole Bus Stop', u'Secunderabad Junction', u'206/290')\n",
        "('Nagole Bus Stop', u'Secunderabad Junction', u'90A')\n",
        "('Nagole Bus Stop', u'Secunderabad Junction', u'90A/107V')\n",
        "('Nagole Bus Stop', u'Secunderabad Junction', u'90D/107V')\n",
        "('Nagole Bus Stop', u'Secunderabad Junction', u'90NJ')\n",
        "-----\n",
        "(u'Secunderabad Junction', 'Ziaguda', u'2J')\n",
        "(u'Secunderabad Junction', 'Ziaguda', u'86J')\n",
        "(u'Secunderabad Junction', 'Ziaguda', u'1J')\n",
        "-----\n",
        "('Nagole Bus Stop', u'Womens college Bus Stop', u'201G')\n",
        "('Nagole Bus Stop', u'Womens college Bus Stop', u'96N')\n",
        "('Nagole Bus Stop', u'Womens college Bus Stop', u'201M')\n",
        "-----\n",
        "(u'Womens college Bus Stop', 'Ziaguda', u'86J')\n",
        "-----\n",
        "('Nagole Bus Stop', u'LB Nagar Bus Stop', u'90L/250')\n",
        "-----\n",
        "(u'LB Nagar Bus Stop', 'Ziaguda', u'72JY')\n",
        "-----\n"
       ]
      }
     ],
     "prompt_number": 10
    }
   ],
   "metadata": {}
  }
 ]
}